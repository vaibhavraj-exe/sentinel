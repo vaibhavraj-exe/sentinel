{
 "cells": [
  {
   "cell_type": "code",
   "execution_count": 1,
   "metadata": {},
   "outputs": [],
   "source": [
    "from pytorch_modules.model import DistilBERTClass\n",
    "from pytorch_modules.dataset import MultiLabelDataset\n",
    "import torch\n",
    "from pytorch_modules import config\n",
    "import pandas as pd\n",
    "from transformers import DistilBertTokenizer\n",
    "from torch.utils.data import random_split\n",
    "from torch.utils.data import DataLoader\n",
    "from pytorch_modules.utils import train, save_model"
   ]
  },
  {
   "cell_type": "code",
   "execution_count": 2,
   "metadata": {},
   "outputs": [],
   "source": [
    "device = \"cuda\" if torch.cuda.is_available() else \"cpu\"\n",
    "df = pd.read_csv(config.DATA_DIR)\n",
    "tokenizer = DistilBertTokenizer.from_pretrained(\n",
    "    \"distilbert-base-uncased\", truncation=True, do_lower_case=True\n",
    ")\n",
    "dataset = MultiLabelDataset(\n",
    "    dataframe=df, tokenizer=tokenizer, max_len=config.MAX_LEN\n",
    ")\n",
    "train_set, val_set = random_split(\n",
    "    dataset, [0.8, 0.2], generator=torch.Generator().manual_seed(42)\n",
    ")\n"
   ]
  },
  {
   "cell_type": "code",
   "execution_count": 3,
   "metadata": {},
   "outputs": [
    {
     "data": {
      "text/plain": [
       "<torch.utils.data.dataset.Subset at 0x7ddd7198dd00>"
      ]
     },
     "execution_count": 3,
     "metadata": {},
     "output_type": "execute_result"
    }
   ],
   "source": [
    "train_set"
   ]
  },
  {
   "cell_type": "code",
   "execution_count": 4,
   "metadata": {},
   "outputs": [
    {
     "name": "stderr",
     "output_type": "stream",
     "text": [
      "Truncation was not explicitly activated but `max_length` is provided a specific value, please use `truncation=True` to explicitly truncate examples to max length. Defaulting to 'longest_first' truncation strategy. If you encode pairs of sequences (GLUE-style) with the tokenizer you can select this strategy more precisely by providing a specific strategy to `truncation`.\n",
      "/home/stanley/miniconda3/lib/python3.12/site-packages/transformers/tokenization_utils_base.py:2645: FutureWarning: The `pad_to_max_length` argument is deprecated and will be removed in a future version, use `padding=True` or `padding='longest'` to pad to the longest sequence in the batch, or use `padding='max_length'` to pad to a max length. In this case, you can give a specific length with `max_length` (e.g. `max_length=45`) or leave max_length to None to pad to the maximal input size of the model (e.g. 512 for Bert).\n",
      "  warnings.warn(\n"
     ]
    }
   ],
   "source": [
    "trial_pass = train_set[0]"
   ]
  },
  {
   "cell_type": "code",
   "execution_count": 5,
   "metadata": {},
   "outputs": [],
   "source": [
    "ids = trial_pass['ids'].to(device, dtype = torch.long)\n",
    "mask = trial_pass['mask'].to(device, dtype = torch.long)\n",
    "token_type_ids = trial_pass['token_type_ids'].to(device, dtype = torch.long)\n",
    "targets = trial_pass['targets'].to(device, dtype = torch.float)"
   ]
  },
  {
   "cell_type": "code",
   "execution_count": 15,
   "metadata": {},
   "outputs": [],
   "source": [
    "model_trial = DistilBERTClass().to(device)\n",
    "outputs = model_trial(ids, mask, token_type_ids).squeeze(dim=0)"
   ]
  },
  {
   "cell_type": "code",
   "execution_count": 16,
   "metadata": {},
   "outputs": [
    {
     "name": "stdout",
     "output_type": "stream",
     "text": [
      "torch.Size([6]) torch.Size([6])\n",
      "tensor([-0.1301, -0.0243, -0.1516,  0.2207, -0.2031,  0.0527], device='cuda:0',\n",
      "       grad_fn=<SqueezeBackward1>) tensor([0., 0., 0., 0., 0., 0.], device='cuda:0')\n"
     ]
    }
   ],
   "source": [
    "print(outputs.squeeze(dim=0).shape, targets.shape)\n",
    "print(outputs, targets)"
   ]
  },
  {
   "cell_type": "code",
   "execution_count": 22,
   "metadata": {},
   "outputs": [
    {
     "data": {
      "text/plain": [
       "(0.6666666666666666,\n",
       " tensor([0., 0., 0., 1., 0., 1.], device='cuda:0', grad_fn=<RoundBackward0>),\n",
       " tensor([0.4675, 0.4939, 0.4622, 0.5549, 0.4494, 0.5132], device='cuda:0',\n",
       "        grad_fn=<SigmoidBackward0>))"
      ]
     },
     "execution_count": 22,
     "metadata": {},
     "output_type": "execute_result"
    }
   ],
   "source": [
    "sigmoids = (torch.sigmoid(outputs))\n",
    "rounded = torch.round(sigmoids)\n",
    "output = torch.eq(targets, rounded).sum().item()/len(rounded)\n",
    "output, rounded, sigmoids\n"
   ]
  },
  {
   "cell_type": "code",
   "execution_count": 3,
   "metadata": {},
   "outputs": [],
   "source": [
    "train_dataloader = DataLoader(\n",
    "    dataset=train_set,\n",
    "    batch_size=config.BATCH_SIZE,\n",
    "    shuffle=True,\n",
    "    num_workers=config.NUM_WORKERS,\n",
    ")\n",
    "\n",
    "val_dataloader = DataLoader(\n",
    "    dataset=val_set,\n",
    "    batch_size=config.BATCH_SIZE,\n",
    "    shuffle=True,\n",
    "    num_workers=config.NUM_WORKERS,\n",
    ")\n",
    "\n",
    "model = DistilBERTClass()\n",
    "model.to(device)\n",
    "\n",
    "loss_fn = torch.nn.BCEWithLogitsLoss()\n",
    "optimizer = torch.optim.Adam(params=model.parameters(), lr=config.LEARNING_RATE)\n"
   ]
  },
  {
   "cell_type": "code",
   "execution_count": 4,
   "metadata": {},
   "outputs": [
    {
     "data": {
      "application/vnd.jupyter.widget-view+json": {
       "model_id": "9344709bac784180a83fa921d09c8c91",
       "version_major": 2,
       "version_minor": 0
      },
      "text/plain": [
       "  0%|          | 0/1 [00:00<?, ?it/s]"
      ]
     },
     "metadata": {},
     "output_type": "display_data"
    },
    {
     "name": "stderr",
     "output_type": "stream",
     "text": [
      "Truncation was not explicitly activated but `max_length` is provided a specific value, please use `truncation=True` to explicitly truncate examples to max length. Defaulting to 'longest_first' truncation strategy. If you encode pairs of sequences (GLUE-style) with the tokenizer you can select this strategy more precisely by providing a specific strategy to `truncation`.\n",
      "Truncation was not explicitly activated but `max_length` is provided a specific value, please use `truncation=True` to explicitly truncate examples to max length. Defaulting to 'longest_first' truncation strategy. If you encode pairs of sequences (GLUE-style) with the tokenizer you can select this strategy more precisely by providing a specific strategy to `truncation`.\n"
     ]
    },
    {
     "data": {
      "application/vnd.jupyter.widget-view+json": {
       "model_id": "7004f49d33f848b195447d95b98bbae4",
       "version_major": 2,
       "version_minor": 0
      },
      "text/plain": [
       "Training Epoch 0:   0%|          | 0/12766 [00:00<?, ?it/s]"
      ]
     },
     "metadata": {},
     "output_type": "display_data"
    },
    {
     "name": "stderr",
     "output_type": "stream",
     "text": [
      "/home/stanley/miniconda3/lib/python3.12/site-packages/transformers/tokenization_utils_base.py:2645: FutureWarning: The `pad_to_max_length` argument is deprecated and will be removed in a future version, use `padding=True` or `padding='longest'` to pad to the longest sequence in the batch, or use `padding='max_length'` to pad to a max length. In this case, you can give a specific length with `max_length` (e.g. `max_length=45`) or leave max_length to None to pad to the maximal input size of the model (e.g. 512 for Bert).\n",
      "  warnings.warn(\n",
      "/home/stanley/miniconda3/lib/python3.12/site-packages/transformers/tokenization_utils_base.py:2645: FutureWarning: The `pad_to_max_length` argument is deprecated and will be removed in a future version, use `padding=True` or `padding='longest'` to pad to the longest sequence in the batch, or use `padding='max_length'` to pad to a max length. In this case, you can give a specific length with `max_length` (e.g. `max_length=45`) or leave max_length to None to pad to the maximal input size of the model (e.g. 512 for Bert).\n",
      "  warnings.warn(\n",
      "Truncation was not explicitly activated but `max_length` is provided a specific value, please use `truncation=True` to explicitly truncate examples to max length. Defaulting to 'longest_first' truncation strategy. If you encode pairs of sequences (GLUE-style) with the tokenizer you can select this strategy more precisely by providing a specific strategy to `truncation`.\n",
      "Truncation was not explicitly activated but `max_length` is provided a specific value, please use `truncation=True` to explicitly truncate examples to max length. Defaulting to 'longest_first' truncation strategy. If you encode pairs of sequences (GLUE-style) with the tokenizer you can select this strategy more precisely by providing a specific strategy to `truncation`.\n",
      "/home/stanley/miniconda3/lib/python3.12/site-packages/transformers/tokenization_utils_base.py:2645: FutureWarning: The `pad_to_max_length` argument is deprecated and will be removed in a future version, use `padding=True` or `padding='longest'` to pad to the longest sequence in the batch, or use `padding='max_length'` to pad to a max length. In this case, you can give a specific length with `max_length` (e.g. `max_length=45`) or leave max_length to None to pad to the maximal input size of the model (e.g. 512 for Bert).\n",
      "  warnings.warn(\n"
     ]
    },
    {
     "data": {
      "application/vnd.jupyter.widget-view+json": {
       "model_id": "fbaee8507659478fbc4f4a52727c67f5",
       "version_major": 2,
       "version_minor": 0
      },
      "text/plain": [
       "Testing Epoch 0:   0%|          | 0/3192 [00:00<?, ?it/s]"
      ]
     },
     "metadata": {},
     "output_type": "display_data"
    },
    {
     "name": "stderr",
     "output_type": "stream",
     "text": [
      "/home/stanley/miniconda3/lib/python3.12/site-packages/transformers/tokenization_utils_base.py:2645: FutureWarning: The `pad_to_max_length` argument is deprecated and will be removed in a future version, use `padding=True` or `padding='longest'` to pad to the longest sequence in the batch, or use `padding='max_length'` to pad to a max length. In this case, you can give a specific length with `max_length` (e.g. `max_length=45`) or leave max_length to None to pad to the maximal input size of the model (e.g. 512 for Bert).\n",
      "  warnings.warn(\n"
     ]
    },
    {
     "name": "stdout",
     "output_type": "stream",
     "text": [
      "Epoch: 1 | train_loss: 0.0467 | train_acc: 0.9828 | test_loss: 0.0366 | test_acc: 0.9853 | train_epoch_time: 8919.3361 | test_epoch_time: 871.2157\n",
      "[INFO] Saving model to: models/test_model.pt\n"
     ]
    }
   ],
   "source": [
    "\n",
    "\n",
    "results = train(\n",
    "    model=model,\n",
    "    train_dataloader=train_dataloader,\n",
    "    test_dataloader=val_dataloader,\n",
    "    optimizer=optimizer,\n",
    "    loss_fn=loss_fn,\n",
    "    epochs=config.EPOCHS,\n",
    "    device=device,\n",
    ")\n",
    "\n",
    "save_model(model=model, target_dir=\"models/\", model_name=\"test_model.pt\")"
   ]
  },
  {
   "cell_type": "code",
   "execution_count": 5,
   "metadata": {},
   "outputs": [
    {
     "data": {
      "text/plain": [
       "{'train_results': [{'train_acc': [0.4166666865348816,\n",
       "    0.9634551560363896,\n",
       "    0.9707986752126062,\n",
       "    0.9738623814762764,\n",
       "    0.975992234521464,\n",
       "    0.9768487733654146,\n",
       "    0.9774939906987662,\n",
       "    0.9780898042544475,\n",
       "    0.9786894407087642,\n",
       "    0.9791497036246448,\n",
       "    0.9792402593424542,\n",
       "    0.9795163142359715,\n",
       "    0.9798343113083801,\n",
       "    0.9800435844918637,\n",
       "    0.980266609182814,\n",
       "    0.9803525202540763,\n",
       "    0.9804346376447671,\n",
       "    0.9806541261591647,\n",
       "    0.9808152871559205,\n",
       "    0.9809624103470197,\n",
       "    0.981097601032559,\n",
       "    0.98120933801404,\n",
       "    0.9813563663333569,\n",
       "    0.9814737056272822,\n",
       "    0.9816715333167422,\n",
       "    0.9817491063609503,\n",
       "    0.9818997626777735,\n",
       "    0.9819528516053182,\n",
       "    0.9820696011410911,\n",
       "    0.9821763844918059,\n",
       "    0.9822353135544835,\n",
       "    0.9823531583616418,\n",
       "    0.9824289200442767,\n",
       "    0.9824815739129436,\n",
       "    0.9825294969736531,\n",
       "    0.9826048376752972,\n",
       "    0.9826158135756885,\n",
       "    0.9826382071507341,\n",
       "    0.982669655262049,\n",
       "    0.9826909445226829,\n",
       "    0.9827042254902166,\n",
       "    0.9827615704762045,\n",
       "    0.9828029584860046],\n",
       "   'train_loss': [0.7139195203781128,\n",
       "    0.16715970438629685,\n",
       "    0.11822807895152918,\n",
       "    0.09905261534744755,\n",
       "    0.08710363655964488,\n",
       "    0.08031790209704542,\n",
       "    0.0756091874236058,\n",
       "    0.071751231402899,\n",
       "    0.06834134285498034,\n",
       "    0.06591068886460785,\n",
       "    0.06457399088252859,\n",
       "    0.06302965622947836,\n",
       "    0.06157331242551549,\n",
       "    0.06025443756261731,\n",
       "    0.05900418200746038,\n",
       "    0.058245629416702124,\n",
       "    0.05763338541544037,\n",
       "    0.05665878172806112,\n",
       "    0.05579650486820998,\n",
       "    0.05515096086310223,\n",
       "    0.05447273479600078,\n",
       "    0.053931585788250726,\n",
       "    0.05323875824608464,\n",
       "    0.052685048475634086,\n",
       "    0.05196267833279847,\n",
       "    0.05156724226854778,\n",
       "    0.05102463709540883,\n",
       "    0.05069101758174165,\n",
       "    0.05030582126844934,\n",
       "    0.04995065374469831,\n",
       "    0.049632775859587086,\n",
       "    0.04927448287079347,\n",
       "    0.04897005059048704,\n",
       "    0.04873844934220589,\n",
       "    0.04852218432459107,\n",
       "    0.0481969910838171,\n",
       "    0.047977575398727636,\n",
       "    0.04782975502453023,\n",
       "    0.04760675258446025,\n",
       "    0.047444610921934055,\n",
       "    0.04726056770863557,\n",
       "    0.0469797070497983,\n",
       "    0.046750075701829735]}],\n",
       " 'test_results': [{'test_acc': [0.949999988079071,\n",
       "    0.9856035497497483,\n",
       "    0.9854409378300888,\n",
       "    0.9859785484553177,\n",
       "    0.9854565696553524,\n",
       "    0.9855762883713053,\n",
       "    0.9854155161988397,\n",
       "    0.9853165224300913,\n",
       "    0.9854643962026784,\n",
       "    0.985332599042831,\n",
       "    0.9854381933723915],\n",
       "   'test_loss': [0.12694361805915833,\n",
       "    0.03630648839497858,\n",
       "    0.03579989244293432,\n",
       "    0.035087858192196536,\n",
       "    0.03606334071364843,\n",
       "    0.03591288147318682,\n",
       "    0.03630979514390831,\n",
       "    0.03624099872878126,\n",
       "    0.03618510761671098,\n",
       "    0.03652111037884901,\n",
       "    0.036333608254580825]}],\n",
       " 'train_epoch_time': [8919.336051940918],\n",
       " 'test_epoch_time': [871.2157483100891]}"
      ]
     },
     "execution_count": 5,
     "metadata": {},
     "output_type": "execute_result"
    }
   ],
   "source": [
    "results"
   ]
  },
  {
   "cell_type": "code",
   "execution_count": 15,
   "metadata": {},
   "outputs": [],
   "source": [
    "plot = {\n",
    "\"train_loss\": results['train_results'][0]['train_loss'],\n",
    "\"train_acc\": results['train_results'][0]['train_acc'],\n",
    "\"test_loss\": results['test_results'][0]['test_loss'],\n",
    "\"test_acc\": results['test_results'][0]['test_acc'],\n",
    "\"training_time\": results['train_epoch_time'],\n",
    "\"testing_time\": results['test_epoch_time'],\n",
    "}"
   ]
  },
  {
   "cell_type": "code",
   "execution_count": 18,
   "metadata": {},
   "outputs": [
    {
     "data": {
      "image/png": "[encoded data removed]",
      "text/plain": [
       "<Figure size 1500x700 with 2 Axes>"
      ]
     },
     "metadata": {},
     "output_type": "display_data"
    }
   ],
   "source": [
    "import matplotlib.pyplot as plt\n",
    "def plot_loss_curves(results):\n",
    "\n",
    "    loss = results[\"train_loss\"]\n",
    "    test_loss = results[\"test_loss\"]\n",
    "\n",
    "    accuracy = results[\"train_acc\"]\n",
    "    test_accuracy = results[\"test_acc\"]\n",
    "\n",
    "    train_epochs = range(len(results[\"train_loss\"]))\n",
    "    test_epochs = range(len(results[\"test_loss\"]))\n",
    "\n",
    "    plt.figure(figsize=(15, 7))\n",
    "\n",
    "    # Plot loss\n",
    "    plt.subplot(1, 2, 1)\n",
    "    plt.plot(train_epochs, loss, label=\"train_loss\")\n",
    "    plt.plot(test_epochs, test_loss, label=\"test_loss\")\n",
    "    plt.title(\"Loss\")\n",
    "    plt.xlabel(\"Epochs\")\n",
    "    plt.legend()\n",
    "\n",
    "    # Plot accuracy\n",
    "    plt.subplot(1, 2, 2)\n",
    "    plt.plot(train_epochs, accuracy, label=\"train_accuracy\")\n",
    "    plt.plot(test_epochs, test_accuracy, label=\"test_accuracy\")\n",
    "    plt.title(\"Accuracy\")\n",
    "    plt.xlabel(\"per 300 Batch\")\n",
    "    plt.legend()\n",
    "    \n",
    "plot_loss_curves(results=plot)"
   ]
  },
  {
   "cell_type": "code",
   "execution_count": 19,
   "metadata": {},
   "outputs": [],
   "source": [
    "from pytorch_modules import inference_utils\n",
    "loaded_model = inference_utils.load_model('models/test_model.pt')"
   ]
  },
  {
   "cell_type": "code",
   "execution_count": 24,
   "metadata": {},
   "outputs": [],
   "source": [
    "import json\n",
    "with open(\"outputs/train_results.json\", \"w\") as file:\n",
    "    json.dump(plot, file, sort_keys=True, indent=4, separators=(',' , ':')) "
   ]
  },
  {
   "cell_type": "code",
   "execution_count": 25,
   "metadata": {},
   "outputs": [
    {
     "data": {
      "text/plain": [
       "DistilBERTClass(\n",
       "  (l1): DistilBertModel(\n",
       "    (embeddings): Embeddings(\n",
       "      (word_embeddings): Embedding(30522, 768, padding_idx=0)\n",
       "      (position_embeddings): Embedding(512, 768)\n",
       "      (LayerNorm): LayerNorm((768,), eps=1e-12, elementwise_affine=True)\n",
       "      (dropout): Dropout(p=0.1, inplace=False)\n",
       "    )\n",
       "    (transformer): Transformer(\n",
       "      (layer): ModuleList(\n",
       "        (0-5): 6 x TransformerBlock(\n",
       "          (attention): MultiHeadSelfAttention(\n",
       "            (dropout): Dropout(p=0.1, inplace=False)\n",
       "            (q_lin): Linear(in_features=768, out_features=768, bias=True)\n",
       "            (k_lin): Linear(in_features=768, out_features=768, bias=True)\n",
       "            (v_lin): Linear(in_features=768, out_features=768, bias=True)\n",
       "            (out_lin): Linear(in_features=768, out_features=768, bias=True)\n",
       "          )\n",
       "          (sa_layer_norm): LayerNorm((768,), eps=1e-12, elementwise_affine=True)\n",
       "          (ffn): FFN(\n",
       "            (dropout): Dropout(p=0.1, inplace=False)\n",
       "            (lin1): Linear(in_features=768, out_features=3072, bias=True)\n",
       "            (lin2): Linear(in_features=3072, out_features=768, bias=True)\n",
       "            (activation): GELUActivation()\n",
       "          )\n",
       "          (output_layer_norm): LayerNorm((768,), eps=1e-12, elementwise_affine=True)\n",
       "        )\n",
       "      )\n",
       "    )\n",
       "  )\n",
       "  (pre_classifier): Linear(in_features=768, out_features=768, bias=True)\n",
       "  (dropout): Dropout(p=0.1, inplace=False)\n",
       "  (classifier): Linear(in_features=768, out_features=6, bias=True)\n",
       ")"
      ]
     },
     "execution_count": 25,
     "metadata": {},
     "output_type": "execute_result"
    }
   ],
   "source": [
    "loaded_model"
   ]
  }
 ],
 "metadata": {
  "kernelspec": {
   "display_name": "CSS",
   "language": "python",
   "name": "python3"
  },
  "language_info": {
   "codemirror_mode": {
    "name": "ipython",
    "version": 3
   },
   "file_extension": ".py",
   "mimetype": "text/x-python",
   "name": "python",
   "nbconvert_exporter": "python",
   "pygments_lexer": "ipython3",
   "version": "3.12.2"
  }
 },
 "nbformat": 4,
 "nbformat_minor": 2
}
