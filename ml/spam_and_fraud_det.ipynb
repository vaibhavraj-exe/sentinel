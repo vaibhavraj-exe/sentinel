{
 "cells": [
  {
   "cell_type": "code",
   "execution_count": 2,
   "metadata": {},
   "outputs": [],
   "source": [
    "import pandas as pd"
   ]
  },
  {
   "cell_type": "code",
   "execution_count": 5,
   "metadata": {},
   "outputs": [
    {
     "data": {
      "text/html": [
       "<div>\n",
       "<style scoped>\n",
       "    .dataframe tbody tr th:only-of-type {\n",
       "        vertical-align: middle;\n",
       "    }\n",
       "\n",
       "    .dataframe tbody tr th {\n",
       "        vertical-align: top;\n",
       "    }\n",
       "\n",
       "    .dataframe thead th {\n",
       "        text-align: right;\n",
       "    }\n",
       "</style>\n",
       "<table border=\"1\" class=\"dataframe\">\n",
       "  <thead>\n",
       "    <tr style=\"text-align: right;\">\n",
       "      <th></th>\n",
       "      <th>default_profile</th>\n",
       "      <th>default_profile_image</th>\n",
       "      <th>favourites_count</th>\n",
       "      <th>followers_count</th>\n",
       "      <th>friends_count</th>\n",
       "      <th>geo_enabled</th>\n",
       "      <th>verified</th>\n",
       "      <th>average_tweets_per_day</th>\n",
       "      <th>account_age_days</th>\n",
       "      <th>account_type</th>\n",
       "    </tr>\n",
       "  </thead>\n",
       "  <tbody>\n",
       "    <tr>\n",
       "      <th>5</th>\n",
       "      <td>True</td>\n",
       "      <td>False</td>\n",
       "      <td>237</td>\n",
       "      <td>27394</td>\n",
       "      <td>542</td>\n",
       "      <td>False</td>\n",
       "      <td>False</td>\n",
       "      <td>8.428</td>\n",
       "      <td>1366</td>\n",
       "      <td>bot</td>\n",
       "    </tr>\n",
       "  </tbody>\n",
       "</table>\n",
       "</div>"
      ],
      "text/plain": [
       "   default_profile  default_profile_image  favourites_count  followers_count  \\\n",
       "5             True                  False               237            27394   \n",
       "\n",
       "   friends_count  geo_enabled  verified  average_tweets_per_day  \\\n",
       "5            542        False     False                   8.428   \n",
       "\n",
       "   account_age_days account_type  \n",
       "5              1366          bot  "
      ]
     },
     "execution_count": 5,
     "metadata": {},
     "output_type": "execute_result"
    }
   ],
   "source": [
    "df = pd.read_csv('dataset/clean_bot.csv')\n",
    "df.loc[[5]]"
   ]
  },
  {
   "cell_type": "code",
   "execution_count": null,
   "metadata": {},
   "outputs": [],
   "source": [
    "1,0,8433,517,633,1,0,0.889,1489 #huan"
   ]
  },
  {
   "cell_type": "code",
   "execution_count": null,
   "metadata": {},
   "outputs": [],
   "source": [
    "1,0,8433,517,633,1,0,0.889,1489 #huan\n",
    "1,0,237,27394,542,0,0,8.428,1366#bot"
   ]
  },
  {
   "cell_type": "code",
   "execution_count": 4,
   "metadata": {},
   "outputs": [
    {
     "name": "stderr",
     "output_type": "stream",
     "text": [
      "/tmp/ipykernel_7695/2931568261.py:1: FutureWarning: Downcasting behavior in `replace` is deprecated and will be removed in a future version. To retain the old behavior, explicitly call `result.infer_objects(copy=False)`. To opt-in to the future behavior, set `pd.set_option('future.no_silent_downcasting', True)`\n",
      "  df.replace({True: 1, False: 0}, inplace=True)\n",
      "/tmp/ipykernel_7695/2931568261.py:2: FutureWarning: Downcasting behavior in `replace` is deprecated and will be removed in a future version. To retain the old behavior, explicitly call `result.infer_objects(copy=False)`. To opt-in to the future behavior, set `pd.set_option('future.no_silent_downcasting', True)`\n",
      "  df.replace({'bot': 1, 'human': 0}, inplace=True)\n"
     ]
    }
   ],
   "source": [
    "df.replace({True: 1, False: 0}, inplace=True)\n",
    "df.replace({'bot': 1, 'human': 0}, inplace=True)"
   ]
  },
  {
   "cell_type": "code",
   "execution_count": 5,
   "metadata": {},
   "outputs": [
    {
     "data": {
      "text/html": [
       "<div>\n",
       "<style scoped>\n",
       "    .dataframe tbody tr th:only-of-type {\n",
       "        vertical-align: middle;\n",
       "    }\n",
       "\n",
       "    .dataframe tbody tr th {\n",
       "        vertical-align: top;\n",
       "    }\n",
       "\n",
       "    .dataframe thead th {\n",
       "        text-align: right;\n",
       "    }\n",
       "</style>\n",
       "<table border=\"1\" class=\"dataframe\">\n",
       "  <thead>\n",
       "    <tr style=\"text-align: right;\">\n",
       "      <th></th>\n",
       "      <th>default_profile</th>\n",
       "      <th>default_profile_image</th>\n",
       "      <th>favourites_count</th>\n",
       "      <th>followers_count</th>\n",
       "      <th>friends_count</th>\n",
       "      <th>geo_enabled</th>\n",
       "      <th>verified</th>\n",
       "      <th>average_tweets_per_day</th>\n",
       "      <th>account_age_days</th>\n",
       "      <th>account_type</th>\n",
       "    </tr>\n",
       "  </thead>\n",
       "  <tbody>\n",
       "    <tr>\n",
       "      <th>0</th>\n",
       "      <td>0</td>\n",
       "      <td>0</td>\n",
       "      <td>-0.362527</td>\n",
       "      <td>-0.149232</td>\n",
       "      <td>-0.089655</td>\n",
       "      <td>0</td>\n",
       "      <td>0</td>\n",
       "      <td>0.039802</td>\n",
       "      <td>-1.597274</td>\n",
       "      <td>1</td>\n",
       "    </tr>\n",
       "    <tr>\n",
       "      <th>1</th>\n",
       "      <td>0</td>\n",
       "      <td>0</td>\n",
       "      <td>-0.346844</td>\n",
       "      <td>-0.149527</td>\n",
       "      <td>-0.071974</td>\n",
       "      <td>0</td>\n",
       "      <td>0</td>\n",
       "      <td>-0.272934</td>\n",
       "      <td>-1.620950</td>\n",
       "      <td>0</td>\n",
       "    </tr>\n",
       "    <tr>\n",
       "      <th>2</th>\n",
       "      <td>0</td>\n",
       "      <td>0</td>\n",
       "      <td>-0.265160</td>\n",
       "      <td>-0.149805</td>\n",
       "      <td>-0.077747</td>\n",
       "      <td>1</td>\n",
       "      <td>0</td>\n",
       "      <td>-0.245229</td>\n",
       "      <td>-1.837980</td>\n",
       "      <td>0</td>\n",
       "    </tr>\n",
       "    <tr>\n",
       "      <th>3</th>\n",
       "      <td>1</td>\n",
       "      <td>0</td>\n",
       "      <td>-0.114054</td>\n",
       "      <td>-0.149665</td>\n",
       "      <td>-0.076960</td>\n",
       "      <td>1</td>\n",
       "      <td>0</td>\n",
       "      <td>-0.244212</td>\n",
       "      <td>-1.512434</td>\n",
       "      <td>0</td>\n",
       "    </tr>\n",
       "    <tr>\n",
       "      <th>4</th>\n",
       "      <td>0</td>\n",
       "      <td>0</td>\n",
       "      <td>-0.360050</td>\n",
       "      <td>0.155160</td>\n",
       "      <td>-0.087395</td>\n",
       "      <td>1</td>\n",
       "      <td>1</td>\n",
       "      <td>-0.225904</td>\n",
       "      <td>0.114308</td>\n",
       "      <td>0</td>\n",
       "    </tr>\n",
       "    <tr>\n",
       "      <th>...</th>\n",
       "      <td>...</td>\n",
       "      <td>...</td>\n",
       "      <td>...</td>\n",
       "      <td>...</td>\n",
       "      <td>...</td>\n",
       "      <td>...</td>\n",
       "      <td>...</td>\n",
       "      <td>...</td>\n",
       "      <td>...</td>\n",
       "      <td>...</td>\n",
       "    </tr>\n",
       "    <tr>\n",
       "      <th>37433</th>\n",
       "      <td>1</td>\n",
       "      <td>0</td>\n",
       "      <td>-0.343454</td>\n",
       "      <td>-0.149818</td>\n",
       "      <td>-0.067433</td>\n",
       "      <td>0</td>\n",
       "      <td>0</td>\n",
       "      <td>-0.276962</td>\n",
       "      <td>0.992295</td>\n",
       "      <td>0</td>\n",
       "    </tr>\n",
       "    <tr>\n",
       "      <th>37434</th>\n",
       "      <td>0</td>\n",
       "      <td>0</td>\n",
       "      <td>-0.102085</td>\n",
       "      <td>0.304022</td>\n",
       "      <td>-0.077525</td>\n",
       "      <td>1</td>\n",
       "      <td>1</td>\n",
       "      <td>0.084799</td>\n",
       "      <td>-0.236887</td>\n",
       "      <td>0</td>\n",
       "    </tr>\n",
       "    <tr>\n",
       "      <th>37435</th>\n",
       "      <td>1</td>\n",
       "      <td>0</td>\n",
       "      <td>-0.350883</td>\n",
       "      <td>-0.115218</td>\n",
       "      <td>-0.085901</td>\n",
       "      <td>0</td>\n",
       "      <td>1</td>\n",
       "      <td>-0.189817</td>\n",
       "      <td>-0.245765</td>\n",
       "      <td>0</td>\n",
       "    </tr>\n",
       "    <tr>\n",
       "      <th>37436</th>\n",
       "      <td>0</td>\n",
       "      <td>0</td>\n",
       "      <td>-0.334139</td>\n",
       "      <td>-0.149819</td>\n",
       "      <td>-0.086385</td>\n",
       "      <td>1</td>\n",
       "      <td>0</td>\n",
       "      <td>-0.266588</td>\n",
       "      <td>-0.121466</td>\n",
       "      <td>0</td>\n",
       "    </tr>\n",
       "    <tr>\n",
       "      <th>37437</th>\n",
       "      <td>0</td>\n",
       "      <td>0</td>\n",
       "      <td>-0.330454</td>\n",
       "      <td>-0.149873</td>\n",
       "      <td>-0.088949</td>\n",
       "      <td>0</td>\n",
       "      <td>0</td>\n",
       "      <td>-0.260322</td>\n",
       "      <td>0.147849</td>\n",
       "      <td>1</td>\n",
       "    </tr>\n",
       "  </tbody>\n",
       "</table>\n",
       "<p>37438 rows × 10 columns</p>\n",
       "</div>"
      ],
      "text/plain": [
       "       default_profile  default_profile_image  favourites_count  \\\n",
       "0                    0                      0         -0.362527   \n",
       "1                    0                      0         -0.346844   \n",
       "2                    0                      0         -0.265160   \n",
       "3                    1                      0         -0.114054   \n",
       "4                    0                      0         -0.360050   \n",
       "...                ...                    ...               ...   \n",
       "37433                1                      0         -0.343454   \n",
       "37434                0                      0         -0.102085   \n",
       "37435                1                      0         -0.350883   \n",
       "37436                0                      0         -0.334139   \n",
       "37437                0                      0         -0.330454   \n",
       "\n",
       "       followers_count  friends_count  geo_enabled  verified  \\\n",
       "0            -0.149232      -0.089655            0         0   \n",
       "1            -0.149527      -0.071974            0         0   \n",
       "2            -0.149805      -0.077747            1         0   \n",
       "3            -0.149665      -0.076960            1         0   \n",
       "4             0.155160      -0.087395            1         1   \n",
       "...                ...            ...          ...       ...   \n",
       "37433        -0.149818      -0.067433            0         0   \n",
       "37434         0.304022      -0.077525            1         1   \n",
       "37435        -0.115218      -0.085901            0         1   \n",
       "37436        -0.149819      -0.086385            1         0   \n",
       "37437        -0.149873      -0.088949            0         0   \n",
       "\n",
       "       average_tweets_per_day  account_age_days  account_type  \n",
       "0                    0.039802         -1.597274             1  \n",
       "1                   -0.272934         -1.620950             0  \n",
       "2                   -0.245229         -1.837980             0  \n",
       "3                   -0.244212         -1.512434             0  \n",
       "4                   -0.225904          0.114308             0  \n",
       "...                       ...               ...           ...  \n",
       "37433               -0.276962          0.992295             0  \n",
       "37434                0.084799         -0.236887             0  \n",
       "37435               -0.189817         -0.245765             0  \n",
       "37436               -0.266588         -0.121466             0  \n",
       "37437               -0.260322          0.147849             1  \n",
       "\n",
       "[37438 rows x 10 columns]"
      ]
     },
     "execution_count": 5,
     "metadata": {},
     "output_type": "execute_result"
    }
   ],
   "source": [
    "from sklearn.preprocessing import StandardScaler\n",
    "scaler = StandardScaler()\n",
    "columns_to_standardize = ['favourites_count','followers_count','friends_count','average_tweets_per_day','account_age_days']\n",
    "df[columns_to_standardize] = scaler.fit_transform(df[columns_to_standardize])\n",
    "df"
   ]
  },
  {
   "cell_type": "code",
   "execution_count": null,
   "metadata": {},
   "outputs": [],
   "source": [
    "[2,3,4,7,8]"
   ]
  },
  {
   "cell_type": "code",
   "execution_count": 7,
   "metadata": {},
   "outputs": [],
   "source": [
    "import joblib\n",
    "joblib.dump(scaler, 'models/scaler.pkl')\n",
    "scaler = joblib.load('models/scaler.pkl')"
   ]
  },
  {
   "cell_type": "code",
   "execution_count": 18,
   "metadata": {},
   "outputs": [],
   "source": [
    "X = df.iloc[:,:-1].values\n",
    "y = df.iloc[:, -1].values"
   ]
  },
  {
   "cell_type": "code",
   "execution_count": 9,
   "metadata": {},
   "outputs": [
    {
     "name": "stdout",
     "output_type": "stream",
     "text": [
      "Accuracy: 0.8766025641025641\n",
      "Classification Report:\n",
      "              precision    recall  f1-score   support\n",
      "\n",
      "           0       0.89      0.93      0.91      5001\n",
      "           1       0.85      0.77      0.81      2487\n",
      "\n",
      "    accuracy                           0.88      7488\n",
      "   macro avg       0.87      0.85      0.86      7488\n",
      "weighted avg       0.88      0.88      0.88      7488\n",
      "\n"
     ]
    }
   ],
   "source": [
    "from sklearn.model_selection import train_test_split\n",
    "# from sklearn.linear_model import LogisticRegression\n",
    "from sklearn.metrics import accuracy_score, classification_report\n",
    "import xgboost as xgb\n",
    "\n",
    "X_train, X_test, y_train, y_test = train_test_split(X, y, test_size=0.2, random_state=42)\n",
    "model = xgb.XGBClassifier()\n",
    "model.fit(X_train, y_train)\n",
    "y_pred = model.predict(X_test)\n",
    "\n",
    "accuracy = accuracy_score(y_test, y_pred)\n",
    "print(\"Accuracy:\", accuracy)\n",
    "\n",
    "# Print classification report\n",
    "print(\"Classification Report:\")\n",
    "print(classification_report(y_test, y_pred))"
   ]
  },
  {
   "cell_type": "code",
   "execution_count": 10,
   "metadata": {},
   "outputs": [
    {
     "name": "stderr",
     "output_type": "stream",
     "text": [
      "/home/stanley/miniconda3/lib/python3.12/site-packages/xgboost/core.py:160: UserWarning: [09:59:10] WARNING: /workspace/src/c_api/c_api.cc:1240: Saving into deprecated binary model format, please consider using `json` or `ubj`. Model format will default to JSON in XGBoost 2.2 if not specified.\n",
      "  warnings.warn(smsg, UserWarning)\n"
     ]
    }
   ],
   "source": [
    "model.save_model(\"models/xgboost_model.model\")\n",
    "loaded_model = xgb.Booster()\n",
    "loaded_model.load_model(\"models/xgboost_model.model\")"
   ]
  },
  {
   "cell_type": "code",
   "execution_count": 31,
   "metadata": {},
   "outputs": [
    {
     "data": {
      "text/plain": [
       "(37438, 9)"
      ]
     },
     "execution_count": 31,
     "metadata": {},
     "output_type": "execute_result"
    }
   ],
   "source": [
    "X.shape"
   ]
  },
  {
   "cell_type": "code",
   "execution_count": 11,
   "metadata": {},
   "outputs": [
    {
     "data": {
      "text/plain": [
       "array([[-0.36252663],\n",
       "       [-0.14923157],\n",
       "       [-0.08965519],\n",
       "       [ 0.03980231],\n",
       "       [-1.59727362]])"
      ]
     },
     "execution_count": 11,
     "metadata": {},
     "output_type": "execute_result"
    }
   ],
   "source": [
    "test_input =X[0].reshape(-1, 1)\n",
    "columns_to_standardize = [2,3,4,7,8]\n",
    "data_to_transform = test_input[columns_to_standardize]\n",
    "data_to_transform"
   ]
  },
  {
   "cell_type": "code",
   "execution_count": 16,
   "metadata": {},
   "outputs": [
    {
     "name": "stderr",
     "output_type": "stream",
     "text": [
      "/home/stanley/miniconda3/lib/python3.12/site-packages/sklearn/base.py:493: UserWarning: X does not have valid feature names, but StandardScaler was fitted with feature names\n",
      "  warnings.warn(\n"
     ]
    },
    {
     "data": {
      "text/plain": [
       "0.7987787"
      ]
     },
     "execution_count": 16,
     "metadata": {},
     "output_type": "execute_result"
    }
   ],
   "source": [
    "import joblib\n",
    "import numpy as np\n",
    "import xgboost as xgb\n",
    "test_input = X[1].reshape(-1, 1)\n",
    "\n",
    "loaded_model = xgb.Booster()\n",
    "loaded_model.load_model(\"models/xgboost_model.model\")\n",
    "\n",
    "scaler = joblib.load('models/scaler.pkl')\n",
    "columns_to_standardize = [2,3,4,7,8]\n",
    "data_to_transform = test_input[columns_to_standardize].reshape(1, -1)\n",
    "transformed_data = scaler.transform(data_to_transform).reshape(-1, 1)\n",
    "standardized_input = test_input.copy()\n",
    "standardized_input[columns_to_standardize] = transformed_data\n",
    "\n",
    "dtest = xgb.DMatrix(standardized_input)\n",
    "predictions = loaded_model.predict(dtest)\n",
    "predictions[0]\n"
   ]
  },
  {
   "cell_type": "code",
   "execution_count": 20,
   "metadata": {},
   "outputs": [
    {
     "name": "stdout",
     "output_type": "stream",
     "text": [
      "Accuracy: 0.7594818376068376\n",
      "Classification Report:\n",
      "              precision    recall  f1-score   support\n",
      "\n",
      "           0       0.80      0.85      0.83      5001\n",
      "           1       0.66      0.57      0.61      2487\n",
      "\n",
      "    accuracy                           0.76      7488\n",
      "   macro avg       0.73      0.71      0.72      7488\n",
      "weighted avg       0.75      0.76      0.75      7488\n",
      "\n"
     ]
    }
   ],
   "source": [
    "from sklearn.model_selection import train_test_split\n",
    "from sklearn.linear_model import LogisticRegression\n",
    "from sklearn.metrics import accuracy_score, classification_report\n",
    "\n",
    "\n",
    "# Split the data into training and testing sets\n",
    "X_train, X_test, y_train, y_test = train_test_split(X, y, test_size=0.2, random_state=42)\n",
    "\n",
    "# Initialize and fit the logistic regression model\n",
    "model = LogisticRegression()\n",
    "model.fit(X_train, y_train)\n",
    "\n",
    "# Make predictions on the test set\n",
    "y_pred = model.predict(X_test)\n",
    "\n",
    "# Evaluate the model\n",
    "accuracy = accuracy_score(y_test, y_pred)\n",
    "print(\"Accuracy:\", accuracy)\n",
    "\n",
    "# Print classification report\n",
    "print(\"Classification Report:\")\n",
    "print(classification_report(y_test, y_pred))\n",
    "joblib.dump(model, \"logistic_regression_model.pkl\")\n"
   ]
  },
  {
   "cell_type": "code",
   "execution_count": 21,
   "metadata": {},
   "outputs": [
    {
     "data": {
      "text/plain": [
       "array([ 0.        ,  0.        , -0.36252663, -0.14923157, -0.08965519,\n",
       "        0.        ,  0.        ,  0.03980231, -1.59727362])"
      ]
     },
     "execution_count": 21,
     "metadata": {},
     "output_type": "execute_result"
    }
   ],
   "source": []
  },
  {
   "cell_type": "code",
   "execution_count": 25,
   "metadata": {},
   "outputs": [
    {
     "name": "stdout",
     "output_type": "stream",
     "text": [
      "Predictions: [[0.52917346 0.47082654]\n",
      " [0.58004337 0.41995663]\n",
      " [0.83096624 0.16903376]\n",
      " ...\n",
      " [0.87485522 0.12514478]\n",
      " [0.81063673 0.18936327]\n",
      " [0.56219138 0.43780862]]\n"
     ]
    },
    {
     "data": {
      "text/plain": [
       "array([0.47082654, 0.41995663, 0.16903376, ..., 0.12514478, 0.18936327,\n",
       "       0.43780862])"
      ]
     },
     "execution_count": 25,
     "metadata": {},
     "output_type": "execute_result"
    }
   ],
   "source": [
    "from sklearn.linear_model import LogisticRegression\n",
    "import joblib\n",
    "\n",
    "\n",
    "\n",
    "# Train logistic regression model\n",
    "model = LogisticRegression()\n",
    "model.fit(X, y)\n",
    "\n",
    "# Save the trained model\n",
    "joblib.dump(model, \"logistic_regression_model.pkl\")\n",
    "\n",
    "# Later, load the model\n",
    "loaded_model = joblib.load(\"logistic_regression_model.pkl\")\n",
    "\n",
    "# Make predictions using the loaded model\n",
    "predictions = loaded_model.predict_proba(X)\n",
    "print(\"Predictions:\", predictions)\n",
    "predictions[:,1]\n"
   ]
  },
  {
   "cell_type": "code",
   "execution_count": 35,
   "metadata": {},
   "outputs": [
    {
     "data": {
      "text/plain": [
       "array([False, False, False, ..., False, False, False])"
      ]
     },
     "execution_count": 35,
     "metadata": {},
     "output_type": "execute_result"
    }
   ],
   "source": [
    "pred_bot_idx = predictions[:,1]> 0.5\n",
    "# predictions[pred_bot_idx]\n",
    "pred_bot_idx"
   ]
  },
  {
   "cell_type": "code",
   "execution_count": 36,
   "metadata": {},
   "outputs": [
    {
     "data": {
      "text/plain": [
       "array([    5,     8,    16, ..., 37429, 37432, 37433])"
      ]
     },
     "execution_count": 36,
     "metadata": {},
     "output_type": "execute_result"
    }
   ],
   "source": [
    "pred_bot_idx\n",
    "no_arry = np.arange(0,37438 )\n",
    "no_arry[pred_bot_idx]"
   ]
  },
  {
   "cell_type": "code",
   "execution_count": null,
   "metadata": {},
   "outputs": [],
   "source": []
  }
 ],
 "metadata": {
  "kernelspec": {
   "display_name": "base",
   "language": "python",
   "name": "python3"
  },
  "language_info": {
   "codemirror_mode": {
    "name": "ipython",
    "version": 3
   },
   "file_extension": ".py",
   "mimetype": "text/x-python",
   "name": "python",
   "nbconvert_exporter": "python",
   "pygments_lexer": "ipython3",
   "version": "3.12.2"
  }
 },
 "nbformat": 4,
 "nbformat_minor": 2
}
